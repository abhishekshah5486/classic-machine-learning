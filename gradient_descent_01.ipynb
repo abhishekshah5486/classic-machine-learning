{
  "cells": [
    {
      "cell_type": "markdown",
      "metadata": {
        "id": "view-in-github",
        "colab_type": "text"
      },
      "source": [
        "<a href=\"https://colab.research.google.com/github/abhishekshah5486/classic-machine-learning/blob/main/gradient_descent_01.ipynb\" target=\"_parent\"><img src=\"https://colab.research.google.com/assets/colab-badge.svg\" alt=\"Open In Colab\"/></a>"
      ]
    },
    {
      "cell_type": "code",
      "execution_count": 552,
      "metadata": {
        "id": "cYsx7mfICnjn"
      },
      "outputs": [],
      "source": [
        "import numpy as np\n",
        "import pandas as pd\n",
        "import seaborn as sns\n",
        "import matplotlib.pyplot as plt"
      ]
    },
    {
      "cell_type": "code",
      "execution_count": 553,
      "metadata": {
        "id": "al1rsXBqDKtn"
      },
      "outputs": [],
      "source": [
        "from sklearn.datasets import load_diabetes, make_regression"
      ]
    },
    {
      "cell_type": "code",
      "execution_count": 554,
      "metadata": {
        "id": "DDLhx_4ZDxNn"
      },
      "outputs": [],
      "source": [
        "X, y = load_diabetes(return_X_y = True)"
      ]
    },
    {
      "cell_type": "code",
      "execution_count": 639,
      "metadata": {
        "id": "tWq4NuBUEE7f",
        "colab": {
          "base_uri": "https://localhost:8080/"
        },
        "outputId": "7eafb43e-9c7b-4362-acfa-4d88e18e2069"
      },
      "outputs": [
        {
          "output_type": "execute_result",
          "data": {
            "text/plain": [
              "array([-3.43198806e+01, -9.42120961e+00, -1.90881877e+01,  2.04372122e+01,\n",
              "        2.77559659e+01, -2.90750046e+00, -1.41987828e+01,  5.40025891e+00,\n",
              "       -2.64264302e+01, -3.49067872e+01,  3.73362043e+01,  1.28532816e+01,\n",
              "        2.50289888e+01, -1.89608736e+01, -2.34655852e+01,  3.77839324e+01,\n",
              "        6.69670792e+00, -5.57201352e+00, -4.92158778e+01,  1.59474399e+01,\n",
              "       -4.29667324e+01,  6.09015466e+00, -2.53194769e+01,  6.28216706e+01,\n",
              "        1.24870400e+01, -3.27136530e+01, -1.88255476e+01, -2.93912926e+01,\n",
              "       -2.86886731e+01,  4.38924069e+00,  4.63542396e+01,  2.43919519e+01,\n",
              "        3.79848517e+01, -3.45767718e+01, -6.18736296e+01, -4.64421597e+01,\n",
              "       -6.88808416e+00,  3.96988084e+01, -3.52373298e+01,  8.36850884e+00,\n",
              "       -3.96814412e+01,  8.27318308e+00, -4.40722161e+00, -3.01350607e+00,\n",
              "        5.78213629e+01,  2.46525603e+01,  1.81131707e+01, -5.22849035e+01,\n",
              "        3.59187182e+01,  1.58411788e+01,  2.40080546e+01, -2.51245994e+01,\n",
              "       -4.39284313e+01,  1.73925049e+01,  1.50322799e+01,  3.78339073e+01,\n",
              "        6.33015059e+00,  5.07266140e+00, -5.57047189e+00,  1.98411137e+01,\n",
              "        7.04149700e+00, -1.89353310e+01,  3.48047372e+01, -5.71391242e+01,\n",
              "        3.10524837e+01, -7.57291461e+01, -4.43062883e+01,  2.12404103e+01,\n",
              "       -1.86288622e-01, -2.85657165e+01, -7.39169323e+00,  2.52239775e+01,\n",
              "        3.25432136e+01,  2.93379129e-01, -1.86381423e+01,  3.93501682e+01,\n",
              "        2.54005098e+00, -4.86320699e+01,  5.42818051e+01, -1.02170910e+01,\n",
              "       -5.66921620e+00,  2.34628620e+01, -6.92299670e-02,  5.63079459e+00,\n",
              "       -9.68771368e+00, -4.46638656e+01,  3.27083097e+01,  1.81174790e+01,\n",
              "       -1.61432262e+01,  4.50414413e+01,  2.27466324e+01,  3.71085471e+01,\n",
              "        1.24760264e+01, -3.58452002e+01, -2.86386661e+01, -2.79790662e+01,\n",
              "        6.41794705e+01, -6.07154394e+01,  2.22333646e+01, -2.40222151e+00])"
            ]
          },
          "metadata": {},
          "execution_count": 639
        }
      ],
      "source": [
        "X, y = make_regression(n_features=1, noise=20, random_state=13, n_samples=100, n_targets=1, n_informative=1)"
      ]
    },
    {
      "cell_type": "code",
      "execution_count": 556,
      "metadata": {
        "id": "9GCP-TbFEc92",
        "colab": {
          "base_uri": "https://localhost:8080/",
          "height": 467
        },
        "outputId": "237a97bc-e75c-4149-d4fa-30b6ea4bbde4"
      },
      "outputs": [
        {
          "output_type": "execute_result",
          "data": {
            "text/plain": [
              "Text(0, 0.5, 'Target')"
            ]
          },
          "metadata": {},
          "execution_count": 556
        },
        {
          "output_type": "display_data",
          "data": {
            "text/plain": [
              "<Figure size 640x480 with 1 Axes>"
            ],
            "image/png": "[encoded data removed]"
          },
          "metadata": {}
        }
      ],
      "source": [
        "plt.scatter(X, y)\n",
        "plt.xlabel(\"Feature\")\n",
        "plt.ylabel(\"Target\")"
      ]
    },
    {
      "cell_type": "markdown",
      "metadata": {
        "id": "tl8PLrQQEz_-"
      },
      "source": [
        "### Using Sklearn Linear Regression (OLS)"
      ]
    },
    {
      "cell_type": "code",
      "execution_count": 557,
      "metadata": {
        "id": "D9aosGSFElXV"
      },
      "outputs": [],
      "source": [
        "from sklearn.model_selection import train_test_split\n",
        "X_train, X_test, y_train, y_test = train_test_split(X, y, test_size=0.2, random_state=1)"
      ]
    },
    {
      "cell_type": "code",
      "execution_count": 558,
      "metadata": {
        "id": "es3z6y7GFDLv"
      },
      "outputs": [],
      "source": [
        "from sklearn.linear_model import LinearRegression\n",
        "lr = LinearRegression()"
      ]
    },
    {
      "cell_type": "code",
      "execution_count": 559,
      "metadata": {
        "id": "oECdR1caFIVq",
        "colab": {
          "base_uri": "https://localhost:8080/",
          "height": 80
        },
        "outputId": "4bdb0b1f-77f9-4a39-aa09-69ba2b269c67"
      },
      "outputs": [
        {
          "output_type": "execute_result",
          "data": {
            "text/plain": [
              "LinearRegression()"
            ],
            "text/html": [
              "<style>#sk-container-id-8 {\n",
              "  /* Definition of color scheme common for light and dark mode */\n",
              "  --sklearn-color-text: #000;\n",
              "  --sklearn-color-text-muted: #666;\n",
              "  --sklearn-color-line: gray;\n",
              "  /* Definition of color scheme for unfitted estimators */\n",
              "  --sklearn-color-unfitted-level-0: #fff5e6;\n",
              "  --sklearn-color-unfitted-level-1: #f6e4d2;\n",
              "  --sklearn-color-unfitted-level-2: #ffe0b3;\n",
              "  --sklearn-color-unfitted-level-3: chocolate;\n",
              "  /* Definition of color scheme for fitted estimators */\n",
              "  --sklearn-color-fitted-level-0: #f0f8ff;\n",
              "  --sklearn-color-fitted-level-1: #d4ebff;\n",
              "  --sklearn-color-fitted-level-2: #b3dbfd;\n",
              "  --sklearn-color-fitted-level-3: cornflowerblue;\n",
              "\n",
              "  /* Specific color for light theme */\n",
              "  --sklearn-color-text-on-default-background: var(--sg-text-color, var(--theme-code-foreground, var(--jp-content-font-color1, black)));\n",
              "  --sklearn-color-background: var(--sg-background-color, var(--theme-background, var(--jp-layout-color0, white)));\n",
              "  --sklearn-color-border-box: var(--sg-text-color, var(--theme-code-foreground, var(--jp-content-font-color1, black)));\n",
              "  --sklearn-color-icon: #696969;\n",
              "\n",
              "  @media (prefers-color-scheme: dark) {\n",
              "    /* Redefinition of color scheme for dark theme */\n",
              "    --sklearn-color-text-on-default-background: var(--sg-text-color, var(--theme-code-foreground, var(--jp-content-font-color1, white)));\n",
              "    --sklearn-color-background: var(--sg-background-color, var(--theme-background, var(--jp-layout-color0, #111)));\n",
              "    --sklearn-color-border-box: var(--sg-text-color, var(--theme-code-foreground, var(--jp-content-font-color1, white)));\n",
              "    --sklearn-color-icon: #878787;\n",
              "  }\n",
              "}\n",
              "\n",
              "#sk-container-id-8 {\n",
              "  color: var(--sklearn-color-text);\n",
              "}\n",
              "\n",
              "#sk-container-id-8 pre {\n",
              "  padding: 0;\n",
              "}\n",
              "\n",
              "#sk-container-id-8 input.sk-hidden--visually {\n",
              "  border: 0;\n",
              "  clip: rect(1px 1px 1px 1px);\n",
              "  clip: rect(1px, 1px, 1px, 1px);\n",
              "  height: 1px;\n",
              "  margin: -1px;\n",
              "  overflow: hidden;\n",
              "  padding: 0;\n",
              "  position: absolute;\n",
              "  width: 1px;\n",
              "}\n",
              "\n",
              "#sk-container-id-8 div.sk-dashed-wrapped {\n",
              "  border: 1px dashed var(--sklearn-color-line);\n",
              "  margin: 0 0.4em 0.5em 0.4em;\n",
              "  box-sizing: border-box;\n",
              "  padding-bottom: 0.4em;\n",
              "  background-color: var(--sklearn-color-background);\n",
              "}\n",
              "\n",
              "#sk-container-id-8 div.sk-container {\n",
              "  /* jupyter's `normalize.less` sets `[hidden] { display: none; }`\n",
              "     but bootstrap.min.css set `[hidden] { display: none !important; }`\n",
              "     so we also need the `!important` here to be able to override the\n",
              "     default hidden behavior on the sphinx rendered scikit-learn.org.\n",
              "     See: https://github.com/scikit-learn/scikit-learn/issues/21755 */\n",
              "  display: inline-block !important;\n",
              "  position: relative;\n",
              "}\n",
              "\n",
              "#sk-container-id-8 div.sk-text-repr-fallback {\n",
              "  display: none;\n",
              "}\n",
              "\n",
              "div.sk-parallel-item,\n",
              "div.sk-serial,\n",
              "div.sk-item {\n",
              "  /* draw centered vertical line to link estimators */\n",
              "  background-image: linear-gradient(var(--sklearn-color-text-on-default-background), var(--sklearn-color-text-on-default-background));\n",
              "  background-size: 2px 100%;\n",
              "  background-repeat: no-repeat;\n",
              "  background-position: center center;\n",
              "}\n",
              "\n",
              "/* Parallel-specific style estimator block */\n",
              "\n",
              "#sk-container-id-8 div.sk-parallel-item::after {\n",
              "  content: \"\";\n",
              "  width: 100%;\n",
              "  border-bottom: 2px solid var(--sklearn-color-text-on-default-background);\n",
              "  flex-grow: 1;\n",
              "}\n",
              "\n",
              "#sk-container-id-8 div.sk-parallel {\n",
              "  display: flex;\n",
              "  align-items: stretch;\n",
              "  justify-content: center;\n",
              "  background-color: var(--sklearn-color-background);\n",
              "  position: relative;\n",
              "}\n",
              "\n",
              "#sk-container-id-8 div.sk-parallel-item {\n",
              "  display: flex;\n",
              "  flex-direction: column;\n",
              "}\n",
              "\n",
              "#sk-container-id-8 div.sk-parallel-item:first-child::after {\n",
              "  align-self: flex-end;\n",
              "  width: 50%;\n",
              "}\n",
              "\n",
              "#sk-container-id-8 div.sk-parallel-item:last-child::after {\n",
              "  align-self: flex-start;\n",
              "  width: 50%;\n",
              "}\n",
              "\n",
              "#sk-container-id-8 div.sk-parallel-item:only-child::after {\n",
              "  width: 0;\n",
              "}\n",
              "\n",
              "/* Serial-specific style estimator block */\n",
              "\n",
              "#sk-container-id-8 div.sk-serial {\n",
              "  display: flex;\n",
              "  flex-direction: column;\n",
              "  align-items: center;\n",
              "  background-color: var(--sklearn-color-background);\n",
              "  padding-right: 1em;\n",
              "  padding-left: 1em;\n",
              "}\n",
              "\n",
              "\n",
              "/* Toggleable style: style used for estimator/Pipeline/ColumnTransformer box that is\n",
              "clickable and can be expanded/collapsed.\n",
              "- Pipeline and ColumnTransformer use this feature and define the default style\n",
              "- Estimators will overwrite some part of the style using the `sk-estimator` class\n",
              "*/\n",
              "\n",
              "/* Pipeline and ColumnTransformer style (default) */\n",
              "\n",
              "#sk-container-id-8 div.sk-toggleable {\n",
              "  /* Default theme specific background. It is overwritten whether we have a\n",
              "  specific estimator or a Pipeline/ColumnTransformer */\n",
              "  background-color: var(--sklearn-color-background);\n",
              "}\n",
              "\n",
              "/* Toggleable label */\n",
              "#sk-container-id-8 label.sk-toggleable__label {\n",
              "  cursor: pointer;\n",
              "  display: flex;\n",
              "  width: 100%;\n",
              "  margin-bottom: 0;\n",
              "  padding: 0.5em;\n",
              "  box-sizing: border-box;\n",
              "  text-align: center;\n",
              "  align-items: start;\n",
              "  justify-content: space-between;\n",
              "  gap: 0.5em;\n",
              "}\n",
              "\n",
              "#sk-container-id-8 label.sk-toggleable__label .caption {\n",
              "  font-size: 0.6rem;\n",
              "  font-weight: lighter;\n",
              "  color: var(--sklearn-color-text-muted);\n",
              "}\n",
              "\n",
              "#sk-container-id-8 label.sk-toggleable__label-arrow:before {\n",
              "  /* Arrow on the left of the label */\n",
              "  content: \"▸\";\n",
              "  float: left;\n",
              "  margin-right: 0.25em;\n",
              "  color: var(--sklearn-color-icon);\n",
              "}\n",
              "\n",
              "#sk-container-id-8 label.sk-toggleable__label-arrow:hover:before {\n",
              "  color: var(--sklearn-color-text);\n",
              "}\n",
              "\n",
              "/* Toggleable content - dropdown */\n",
              "\n",
              "#sk-container-id-8 div.sk-toggleable__content {\n",
              "  max-height: 0;\n",
              "  max-width: 0;\n",
              "  overflow: hidden;\n",
              "  text-align: left;\n",
              "  /* unfitted */\n",
              "  background-color: var(--sklearn-color-unfitted-level-0);\n",
              "}\n",
              "\n",
              "#sk-container-id-8 div.sk-toggleable__content.fitted {\n",
              "  /* fitted */\n",
              "  background-color: var(--sklearn-color-fitted-level-0);\n",
              "}\n",
              "\n",
              "#sk-container-id-8 div.sk-toggleable__content pre {\n",
              "  margin: 0.2em;\n",
              "  border-radius: 0.25em;\n",
              "  color: var(--sklearn-color-text);\n",
              "  /* unfitted */\n",
              "  background-color: var(--sklearn-color-unfitted-level-0);\n",
              "}\n",
              "\n",
              "#sk-container-id-8 div.sk-toggleable__content.fitted pre {\n",
              "  /* unfitted */\n",
              "  background-color: var(--sklearn-color-fitted-level-0);\n",
              "}\n",
              "\n",
              "#sk-container-id-8 input.sk-toggleable__control:checked~div.sk-toggleable__content {\n",
              "  /* Expand drop-down */\n",
              "  max-height: 200px;\n",
              "  max-width: 100%;\n",
              "  overflow: auto;\n",
              "}\n",
              "\n",
              "#sk-container-id-8 input.sk-toggleable__control:checked~label.sk-toggleable__label-arrow:before {\n",
              "  content: \"▾\";\n",
              "}\n",
              "\n",
              "/* Pipeline/ColumnTransformer-specific style */\n",
              "\n",
              "#sk-container-id-8 div.sk-label input.sk-toggleable__control:checked~label.sk-toggleable__label {\n",
              "  color: var(--sklearn-color-text);\n",
              "  background-color: var(--sklearn-color-unfitted-level-2);\n",
              "}\n",
              "\n",
              "#sk-container-id-8 div.sk-label.fitted input.sk-toggleable__control:checked~label.sk-toggleable__label {\n",
              "  background-color: var(--sklearn-color-fitted-level-2);\n",
              "}\n",
              "\n",
              "/* Estimator-specific style */\n",
              "\n",
              "/* Colorize estimator box */\n",
              "#sk-container-id-8 div.sk-estimator input.sk-toggleable__control:checked~label.sk-toggleable__label {\n",
              "  /* unfitted */\n",
              "  background-color: var(--sklearn-color-unfitted-level-2);\n",
              "}\n",
              "\n",
              "#sk-container-id-8 div.sk-estimator.fitted input.sk-toggleable__control:checked~label.sk-toggleable__label {\n",
              "  /* fitted */\n",
              "  background-color: var(--sklearn-color-fitted-level-2);\n",
              "}\n",
              "\n",
              "#sk-container-id-8 div.sk-label label.sk-toggleable__label,\n",
              "#sk-container-id-8 div.sk-label label {\n",
              "  /* The background is the default theme color */\n",
              "  color: var(--sklearn-color-text-on-default-background);\n",
              "}\n",
              "\n",
              "/* On hover, darken the color of the background */\n",
              "#sk-container-id-8 div.sk-label:hover label.sk-toggleable__label {\n",
              "  color: var(--sklearn-color-text);\n",
              "  background-color: var(--sklearn-color-unfitted-level-2);\n",
              "}\n",
              "\n",
              "/* Label box, darken color on hover, fitted */\n",
              "#sk-container-id-8 div.sk-label.fitted:hover label.sk-toggleable__label.fitted {\n",
              "  color: var(--sklearn-color-text);\n",
              "  background-color: var(--sklearn-color-fitted-level-2);\n",
              "}\n",
              "\n",
              "/* Estimator label */\n",
              "\n",
              "#sk-container-id-8 div.sk-label label {\n",
              "  font-family: monospace;\n",
              "  font-weight: bold;\n",
              "  display: inline-block;\n",
              "  line-height: 1.2em;\n",
              "}\n",
              "\n",
              "#sk-container-id-8 div.sk-label-container {\n",
              "  text-align: center;\n",
              "}\n",
              "\n",
              "/* Estimator-specific */\n",
              "#sk-container-id-8 div.sk-estimator {\n",
              "  font-family: monospace;\n",
              "  border: 1px dotted var(--sklearn-color-border-box);\n",
              "  border-radius: 0.25em;\n",
              "  box-sizing: border-box;\n",
              "  margin-bottom: 0.5em;\n",
              "  /* unfitted */\n",
              "  background-color: var(--sklearn-color-unfitted-level-0);\n",
              "}\n",
              "\n",
              "#sk-container-id-8 div.sk-estimator.fitted {\n",
              "  /* fitted */\n",
              "  background-color: var(--sklearn-color-fitted-level-0);\n",
              "}\n",
              "\n",
              "/* on hover */\n",
              "#sk-container-id-8 div.sk-estimator:hover {\n",
              "  /* unfitted */\n",
              "  background-color: var(--sklearn-color-unfitted-level-2);\n",
              "}\n",
              "\n",
              "#sk-container-id-8 div.sk-estimator.fitted:hover {\n",
              "  /* fitted */\n",
              "  background-color: var(--sklearn-color-fitted-level-2);\n",
              "}\n",
              "\n",
              "/* Specification for estimator info (e.g. \"i\" and \"?\") */\n",
              "\n",
              "/* Common style for \"i\" and \"?\" */\n",
              "\n",
              ".sk-estimator-doc-link,\n",
              "a:link.sk-estimator-doc-link,\n",
              "a:visited.sk-estimator-doc-link {\n",
              "  float: right;\n",
              "  font-size: smaller;\n",
              "  line-height: 1em;\n",
              "  font-family: monospace;\n",
              "  background-color: var(--sklearn-color-background);\n",
              "  border-radius: 1em;\n",
              "  height: 1em;\n",
              "  width: 1em;\n",
              "  text-decoration: none !important;\n",
              "  margin-left: 0.5em;\n",
              "  text-align: center;\n",
              "  /* unfitted */\n",
              "  border: var(--sklearn-color-unfitted-level-1) 1pt solid;\n",
              "  color: var(--sklearn-color-unfitted-level-1);\n",
              "}\n",
              "\n",
              ".sk-estimator-doc-link.fitted,\n",
              "a:link.sk-estimator-doc-link.fitted,\n",
              "a:visited.sk-estimator-doc-link.fitted {\n",
              "  /* fitted */\n",
              "  border: var(--sklearn-color-fitted-level-1) 1pt solid;\n",
              "  color: var(--sklearn-color-fitted-level-1);\n",
              "}\n",
              "\n",
              "/* On hover */\n",
              "div.sk-estimator:hover .sk-estimator-doc-link:hover,\n",
              ".sk-estimator-doc-link:hover,\n",
              "div.sk-label-container:hover .sk-estimator-doc-link:hover,\n",
              ".sk-estimator-doc-link:hover {\n",
              "  /* unfitted */\n",
              "  background-color: var(--sklearn-color-unfitted-level-3);\n",
              "  color: var(--sklearn-color-background);\n",
              "  text-decoration: none;\n",
              "}\n",
              "\n",
              "div.sk-estimator.fitted:hover .sk-estimator-doc-link.fitted:hover,\n",
              ".sk-estimator-doc-link.fitted:hover,\n",
              "div.sk-label-container:hover .sk-estimator-doc-link.fitted:hover,\n",
              ".sk-estimator-doc-link.fitted:hover {\n",
              "  /* fitted */\n",
              "  background-color: var(--sklearn-color-fitted-level-3);\n",
              "  color: var(--sklearn-color-background);\n",
              "  text-decoration: none;\n",
              "}\n",
              "\n",
              "/* Span, style for the box shown on hovering the info icon */\n",
              ".sk-estimator-doc-link span {\n",
              "  display: none;\n",
              "  z-index: 9999;\n",
              "  position: relative;\n",
              "  font-weight: normal;\n",
              "  right: .2ex;\n",
              "  padding: .5ex;\n",
              "  margin: .5ex;\n",
              "  width: min-content;\n",
              "  min-width: 20ex;\n",
              "  max-width: 50ex;\n",
              "  color: var(--sklearn-color-text);\n",
              "  box-shadow: 2pt 2pt 4pt #999;\n",
              "  /* unfitted */\n",
              "  background: var(--sklearn-color-unfitted-level-0);\n",
              "  border: .5pt solid var(--sklearn-color-unfitted-level-3);\n",
              "}\n",
              "\n",
              ".sk-estimator-doc-link.fitted span {\n",
              "  /* fitted */\n",
              "  background: var(--sklearn-color-fitted-level-0);\n",
              "  border: var(--sklearn-color-fitted-level-3);\n",
              "}\n",
              "\n",
              ".sk-estimator-doc-link:hover span {\n",
              "  display: block;\n",
              "}\n",
              "\n",
              "/* \"?\"-specific style due to the `<a>` HTML tag */\n",
              "\n",
              "#sk-container-id-8 a.estimator_doc_link {\n",
              "  float: right;\n",
              "  font-size: 1rem;\n",
              "  line-height: 1em;\n",
              "  font-family: monospace;\n",
              "  background-color: var(--sklearn-color-background);\n",
              "  border-radius: 1rem;\n",
              "  height: 1rem;\n",
              "  width: 1rem;\n",
              "  text-decoration: none;\n",
              "  /* unfitted */\n",
              "  color: var(--sklearn-color-unfitted-level-1);\n",
              "  border: var(--sklearn-color-unfitted-level-1) 1pt solid;\n",
              "}\n",
              "\n",
              "#sk-container-id-8 a.estimator_doc_link.fitted {\n",
              "  /* fitted */\n",
              "  border: var(--sklearn-color-fitted-level-1) 1pt solid;\n",
              "  color: var(--sklearn-color-fitted-level-1);\n",
              "}\n",
              "\n",
              "/* On hover */\n",
              "#sk-container-id-8 a.estimator_doc_link:hover {\n",
              "  /* unfitted */\n",
              "  background-color: var(--sklearn-color-unfitted-level-3);\n",
              "  color: var(--sklearn-color-background);\n",
              "  text-decoration: none;\n",
              "}\n",
              "\n",
              "#sk-container-id-8 a.estimator_doc_link.fitted:hover {\n",
              "  /* fitted */\n",
              "  background-color: var(--sklearn-color-fitted-level-3);\n",
              "}\n",
              "</style><div id=\"sk-container-id-8\" class=\"sk-top-container\"><div class=\"sk-text-repr-fallback\"><pre>LinearRegression()</pre><b>In a Jupyter environment, please rerun this cell to show the HTML representation or trust the notebook. <br />On GitHub, the HTML representation is unable to render, please try loading this page with nbviewer.org.</b></div><div class=\"sk-container\" hidden><div class=\"sk-item\"><div class=\"sk-estimator fitted sk-toggleable\"><input class=\"sk-toggleable__control sk-hidden--visually\" id=\"sk-estimator-id-8\" type=\"checkbox\" checked><label for=\"sk-estimator-id-8\" class=\"sk-toggleable__label fitted sk-toggleable__label-arrow\"><div><div>LinearRegression</div></div><div><a class=\"sk-estimator-doc-link fitted\" rel=\"noreferrer\" target=\"_blank\" href=\"https://scikit-learn.org/1.6/modules/generated/sklearn.linear_model.LinearRegression.html\">?<span>Documentation for LinearRegression</span></a><span class=\"sk-estimator-doc-link fitted\">i<span>Fitted</span></span></div></label><div class=\"sk-toggleable__content fitted\"><pre>LinearRegression()</pre></div> </div></div></div></div>"
            ]
          },
          "metadata": {},
          "execution_count": 559
        }
      ],
      "source": [
        "lr.fit(X_train, y_train)"
      ]
    },
    {
      "cell_type": "code",
      "execution_count": 560,
      "metadata": {
        "id": "WiN3BXycFKKT",
        "colab": {
          "base_uri": "https://localhost:8080/"
        },
        "outputId": "67d19552-c7bd-4bb0-ebfc-a6f77ca4d2d3"
      },
      "outputs": [
        {
          "output_type": "execute_result",
          "data": {
            "text/plain": [
              "array([26.92218678])"
            ]
          },
          "metadata": {},
          "execution_count": 560
        }
      ],
      "source": [
        "lr.coef_"
      ]
    },
    {
      "cell_type": "code",
      "execution_count": 561,
      "metadata": {
        "id": "tGaLg4fTFTqf",
        "colab": {
          "base_uri": "https://localhost:8080/"
        },
        "outputId": "741eb173-3a31-4bc6-86ad-70b541c0df29"
      },
      "outputs": [
        {
          "output_type": "execute_result",
          "data": {
            "text/plain": [
              "-1.627628110225714"
            ]
          },
          "metadata": {},
          "execution_count": 561
        }
      ],
      "source": [
        "lr.intercept_"
      ]
    },
    {
      "cell_type": "code",
      "execution_count": 562,
      "metadata": {
        "id": "1VO7chtkFW-D"
      },
      "outputs": [],
      "source": [
        "y_pred = lr.predict(X_test)"
      ]
    },
    {
      "cell_type": "code",
      "execution_count": 563,
      "metadata": {
        "id": "FmTy6KEnFchd",
        "colab": {
          "base_uri": "https://localhost:8080/"
        },
        "outputId": "cf279a4c-7200-476e-a197-498220bae7cb"
      },
      "outputs": [
        {
          "output_type": "execute_result",
          "data": {
            "text/plain": [
              "array([ 12.21922939, -10.16912184, -35.59281901,   1.09877597,\n",
              "       -11.97806971,   8.0517675 ,   4.22664608, -19.3294308 ,\n",
              "        -5.53703473, -53.43020819,  14.69498835,  13.50968656,\n",
              "        18.00310088, -11.74821552, -19.15549224,  10.58107316,\n",
              "        18.99237221,  30.42876163,  34.72556212,  52.62652334])"
            ]
          },
          "metadata": {},
          "execution_count": 563
        }
      ],
      "source": [
        "y_pred"
      ]
    },
    {
      "cell_type": "code",
      "execution_count": 564,
      "metadata": {
        "id": "EjMM-ldBFdTD"
      },
      "outputs": [],
      "source": [
        "from sklearn.metrics import r2_score"
      ]
    },
    {
      "cell_type": "code",
      "execution_count": 565,
      "metadata": {
        "id": "MlzMfSDrFiFZ",
        "colab": {
          "base_uri": "https://localhost:8080/"
        },
        "outputId": "fbe3292a-0421-4e80-d7cf-dadc0defd7c5"
      },
      "outputs": [
        {
          "output_type": "execute_result",
          "data": {
            "text/plain": [
              "0.7096230857170095"
            ]
          },
          "metadata": {},
          "execution_count": 565
        }
      ],
      "source": [
        "r2_score(y_test, y_pred)"
      ]
    },
    {
      "cell_type": "code",
      "execution_count": 566,
      "metadata": {
        "id": "RArvKf3GIDA8"
      },
      "outputs": [],
      "source": [
        "y_pred = lr.predict(X_train)"
      ]
    },
    {
      "cell_type": "code",
      "execution_count": 567,
      "metadata": {
        "id": "cTYKF4HtFrvb",
        "colab": {
          "base_uri": "https://localhost:8080/",
          "height": 467
        },
        "outputId": "214ff424-35ce-4d61-cb83-685794ce53d7"
      },
      "outputs": [
        {
          "output_type": "execute_result",
          "data": {
            "text/plain": [
              "Text(0, 0.5, 'Target')"
            ]
          },
          "metadata": {},
          "execution_count": 567
        },
        {
          "output_type": "display_data",
          "data": {
            "text/plain": [
              "<Figure size 640x480 with 1 Axes>"
            ],
            "image/png": "[encoded data removed]"
          },
          "metadata": {}
        }
      ],
      "source": [
        "plt.scatter(X_train, y_train)\n",
        "plt.plot(X_train, y_pred, color='red')\n",
        "plt.xlabel(\"Feature\")\n",
        "plt.ylabel(\"Target\")"
      ]
    },
    {
      "cell_type": "markdown",
      "metadata": {
        "id": "r2qhus35IcF1"
      },
      "source": [
        "### Applying Gradient Descent"
      ]
    },
    {
      "cell_type": "code",
      "execution_count": 568,
      "metadata": {
        "id": "_FeSfoKBIA7E"
      },
      "outputs": [],
      "source": [
        "m = 26.92"
      ]
    },
    {
      "cell_type": "code",
      "execution_count": 569,
      "metadata": {
        "id": "lafoZbgSH7hy"
      },
      "outputs": [],
      "source": [
        "class GradientDescentRegression:\n",
        "  def __init__(self, learning_rate=0.01, iterations=5):\n",
        "    self.m = m\n",
        "    self.b = 0\n",
        "    self.coef_ = self.m\n",
        "    self.intercept_ = self.b\n",
        "    self.learning_rate = learning_rate\n",
        "    self.iterations = iterations\n",
        "\n",
        "  def fit(self, X_train, y_train):\n",
        "    total = X_train.shape[0]\n",
        "    epochs = self.iterations\n",
        "    self.gradient_values = []\n",
        "    self.loss_values = []\n",
        "\n",
        "    for i in range(epochs):\n",
        "      loss_slope = (-2*np.sum(y_train - (self.m * X_train) - self.b))/total\n",
        "      loss = np.sum(np.square((y_train - self.m*X_train - self.b)))/total\n",
        "      self.loss_values.append(loss)\n",
        "      self.gradient_values.append(loss_slope)\n",
        "      self.b = self.b - self.learning_rate*loss_slope\n",
        "    self.coef_ = self.m\n",
        "    self.intercept_ = self.b\n",
        "    return self\n",
        "\n",
        "  def predict(self, X_test):\n",
        "    return (self.coef_ * X_test) + self.intercept_\n"
      ]
    },
    {
      "cell_type": "code",
      "execution_count": 570,
      "metadata": {
        "id": "jpMI5chJH3hN"
      },
      "outputs": [],
      "source": [
        "lr = GradientDescentRegression(0.001, 20)"
      ]
    },
    {
      "cell_type": "code",
      "execution_count": 571,
      "metadata": {
        "id": "geyoZS7cKlIa",
        "colab": {
          "base_uri": "https://localhost:8080/"
        },
        "outputId": "6a9726e3-2f75-466e-bbcb-cf1668637786"
      },
      "outputs": [
        {
          "output_type": "execute_result",
          "data": {
            "text/plain": [
              "<__main__.GradientDescentRegression at 0x7d217abcebc0>"
            ]
          },
          "metadata": {},
          "execution_count": 571
        }
      ],
      "source": [
        "lr.fit(X_train, y_train)"
      ]
    },
    {
      "cell_type": "code",
      "execution_count": 572,
      "metadata": {
        "id": "Vq6TanF6Kx-k",
        "colab": {
          "base_uri": "https://localhost:8080/"
        },
        "outputId": "37e9910a-5452-4ece-8d0a-3f90ccb0f75f"
      },
      "outputs": [
        {
          "output_type": "execute_result",
          "data": {
            "text/plain": [
              "26.92"
            ]
          },
          "metadata": {},
          "execution_count": 572
        }
      ],
      "source": [
        "lr.coef_"
      ]
    },
    {
      "cell_type": "code",
      "execution_count": 573,
      "metadata": {
        "id": "MfWhUmq-NfgY",
        "colab": {
          "base_uri": "https://localhost:8080/"
        },
        "outputId": "b7e97cde-4176-4720-c26b-25e766197688"
      },
      "outputs": [
        {
          "output_type": "execute_result",
          "data": {
            "text/plain": [
              "-1.5777669161745902"
            ]
          },
          "metadata": {},
          "execution_count": 573
        }
      ],
      "source": [
        "lr.intercept_"
      ]
    },
    {
      "cell_type": "code",
      "source": [
        "y_pred = lr.predict(X_test)"
      ],
      "metadata": {
        "id": "W_8GLuaytjx6"
      },
      "execution_count": 574,
      "outputs": []
    },
    {
      "cell_type": "code",
      "source": [
        "from sklearn.metrics import r2_score\n",
        "r2_score(y_test, y_pred)"
      ],
      "metadata": {
        "colab": {
          "base_uri": "https://localhost:8080/"
        },
        "id": "WMBbp8ohtgX-",
        "outputId": "28f123b9-5563-4013-c2a0-7a31b768dc71"
      },
      "execution_count": 575,
      "outputs": [
        {
          "output_type": "execute_result",
          "data": {
            "text/plain": [
              "0.7093318910105599"
            ]
          },
          "metadata": {},
          "execution_count": 575
        }
      ]
    },
    {
      "cell_type": "code",
      "execution_count": 576,
      "metadata": {
        "id": "Ej_ihsdlNgil",
        "colab": {
          "base_uri": "https://localhost:8080/",
          "height": 449
        },
        "outputId": "80447a71-8637-4e4d-d01e-fa006da0321f"
      },
      "outputs": [
        {
          "output_type": "display_data",
          "data": {
            "text/plain": [
              "<Figure size 640x480 with 1 Axes>"
            ],
            "image/png": "[encoded data removed]"
          },
          "metadata": {}
        }
      ],
      "source": [
        "epochs = list(range(1, len(lr.gradient_values) + 1))\n",
        "plt.plot(epochs, lr.gradient_values, color='blue')\n",
        "plt.xlabel('epochs')\n",
        "plt.ylabel('gradient')\n",
        "plt.show()"
      ]
    },
    {
      "cell_type": "code",
      "execution_count": 577,
      "metadata": {
        "id": "23VNSEmeUdHI",
        "colab": {
          "base_uri": "https://localhost:8080/",
          "height": 449
        },
        "outputId": "f1f546d7-1f43-4cb4-feff-9622c126c99a"
      },
      "outputs": [
        {
          "output_type": "display_data",
          "data": {
            "text/plain": [
              "<Figure size 640x480 with 1 Axes>"
            ],
            "image/png": "[encoded data removed]"
          },
          "metadata": {}
        }
      ],
      "source": [
        "epochs = list(range(1, len(lr.gradient_values) + 1))\n",
        "plt.plot(epochs, lr.loss_values, color='red')\n",
        "plt.xlabel('epochs')\n",
        "plt.ylabel('loss')\n",
        "plt.show()"
      ]
    },
    {
      "cell_type": "code",
      "execution_count": 578,
      "metadata": {
        "id": "UO06FQMkZZLA",
        "colab": {
          "base_uri": "https://localhost:8080/",
          "height": 449
        },
        "outputId": "7e828144-586f-49ba-d47d-9283387cd7d1"
      },
      "outputs": [
        {
          "output_type": "display_data",
          "data": {
            "text/plain": [
              "<Figure size 640x480 with 1 Axes>"
            ],
            "image/png": "[encoded data removed]"
          },
          "metadata": {}
        }
      ],
      "source": [
        "plt.plot(lr.gradient_values, lr.loss_values, color='green')\n",
        "plt.xlabel('gradients')\n",
        "plt.ylabel('loss')\n",
        "plt.show()"
      ]
    },
    {
      "cell_type": "code",
      "execution_count": 628,
      "metadata": {
        "id": "4ejmqJHaZ1Kh"
      },
      "outputs": [],
      "source": [
        "class GDRegressor:\n",
        "  def __init__(self, learning_rate=0.01, iterations=5):\n",
        "    self.m = -150\n",
        "    self.b = 120\n",
        "    self.coef_ = self.m\n",
        "    self.intercept_ = self.b\n",
        "    self.learning_rate = learning_rate\n",
        "    self.iterations = iterations\n",
        "\n",
        "  def fit(self, X_train, y_train):\n",
        "    epochs = self.iterations\n",
        "    self.gradient_values_b = []\n",
        "    self.gradient_values_m = []\n",
        "    self.loss_values = []\n",
        "\n",
        "    for i in range(epochs):\n",
        "      loss_slope_b = (-2*np.sum(y_train - (self.m * X_train) - self.b))\n",
        "      print('loss_b: ', loss_slope_b, ' b:', self.b)\n",
        "      loss_slope_m = (-2*np.sum((y_train - (self.m * X_train) - self.b)*X_train))\n",
        "      loss = np.sum(np.square((y_train - self.m*X_train - self.b)))\n",
        "      self.loss_values.append(loss)\n",
        "      self.gradient_values_b.append(loss_slope_b)\n",
        "      self.gradient_values_m.append(loss_slope_m)\n",
        "      self.b = self.b - self.learning_rate*loss_slope_b\n",
        "      self.m = self.m - self.learning_rate*loss_slope_m\n",
        "    self.coef_ = self.m\n",
        "    self.intercept_ = self.b\n",
        "    return self\n",
        "\n",
        "  def predict(self, X_test):\n",
        "    return (self.coef_ * X_test) + self.intercept_\n"
      ]
    },
    {
      "cell_type": "code",
      "execution_count": 629,
      "metadata": {
        "id": "u-Bmta6ijY7H"
      },
      "outputs": [],
      "source": [
        "lr = GDRegressor(0.00005, 20)"
      ]
    },
    {
      "cell_type": "code",
      "execution_count": 630,
      "metadata": {
        "id": "rw8utSxtjdOt",
        "colab": {
          "base_uri": "https://localhost:8080/"
        },
        "outputId": "ce45c138-16a0-4fc9-a4ad-de868d748db9"
      },
      "outputs": [
        {
          "output_type": "stream",
          "name": "stdout",
          "text": [
            "loss_b:  1480629.4156556334  b: 120\n",
            "loss_b:  568533.9067229633  b: 45.96852921721832\n",
            "loss_b:  220736.750425235  b: 17.54183388107015\n",
            "loss_b:  86686.29301257046  b: 6.5049963598084\n",
            "loss_b:  34436.80577050803  b: 2.1706817091798767\n",
            "loss_b:  13836.21999594508  b: 0.4488414206544753\n",
            "loss_b:  5620.212941883006  b: -0.24296957914277872\n",
            "loss_b:  2306.512970859787  b: -0.5239802262369291\n",
            "loss_b:  955.6178341324321  b: -0.6393058747799184\n",
            "loss_b:  399.3466007042435  b: -0.68708676648654\n",
            "loss_b:  168.1682812228949  b: -0.7070540965217522\n",
            "loss_b:  71.29468568299833  b: -0.715462510582897\n",
            "loss_b:  30.40156669655417  b: -0.7190272448670469\n",
            "loss_b:  13.028514298254493  b: -0.7205473232018746\n",
            "loss_b:  5.606901152044685  b: -0.7211987489167874\n",
            "loss_b:  2.421511926555837  b: -0.7214790939743896\n",
            "loss_b:  1.0488915191951378  b: -0.7216001695707174\n",
            "loss_b:  0.4554445425002882  b: -0.7216526141466771\n",
            "loss_b:  0.19815970886219247  b: -0.7216753863738021\n",
            "loss_b:  0.08636022959382217  b: -0.7216852943592452\n"
          ]
        },
        {
          "output_type": "execute_result",
          "data": {
            "text/plain": [
              "<__main__.GDRegressor at 0x7d217a87c280>"
            ]
          },
          "metadata": {},
          "execution_count": 630
        }
      ],
      "source": [
        "lr.fit(X_train, y_train)"
      ]
    },
    {
      "cell_type": "code",
      "execution_count": 631,
      "metadata": {
        "id": "safwFI6EjhFI",
        "colab": {
          "base_uri": "https://localhost:8080/"
        },
        "outputId": "202786c1-20b5-4d83-dff0-b5bb4bd6ed68"
      },
      "outputs": [
        {
          "output_type": "execute_result",
          "data": {
            "text/plain": [
              "-1.1993842484154317e-05"
            ]
          },
          "metadata": {},
          "execution_count": 631
        }
      ],
      "source": [
        "lr.coef_"
      ]
    },
    {
      "cell_type": "code",
      "execution_count": 632,
      "metadata": {
        "id": "Zfi3juLvjiYB",
        "colab": {
          "base_uri": "https://localhost:8080/"
        },
        "outputId": "239ebd46-7c0a-4118-fd98-19ca87e9be78"
      },
      "outputs": [
        {
          "output_type": "execute_result",
          "data": {
            "text/plain": [
              "-0.7216896123707249"
            ]
          },
          "metadata": {},
          "execution_count": 632
        }
      ],
      "source": [
        "lr.intercept_"
      ]
    },
    {
      "cell_type": "code",
      "source": [
        "epochs = list(range(1, len(lr.gradient_values_b) + 1))\n",
        "plt.plot(epochs, lr.gradient_values_b, color='blue')\n",
        "plt.xlabel('epochs')\n",
        "plt.ylabel('gradient values b')\n",
        "plt.show()"
      ],
      "metadata": {
        "colab": {
          "base_uri": "https://localhost:8080/",
          "height": 465
        },
        "id": "G-r5DPopxbTJ",
        "outputId": "bdd3d518-9e0f-4a69-d2d9-ce9b025b35e5"
      },
      "execution_count": 633,
      "outputs": [
        {
          "output_type": "display_data",
          "data": {
            "text/plain": [
              "<Figure size 640x480 with 1 Axes>"
            ],
            "image/png": "[encoded data removed]"
          },
          "metadata": {}
        }
      ]
    },
    {
      "cell_type": "code",
      "source": [
        "epochs = list(range(1, len(lr.gradient_values_m) + 1))\n",
        "plt.plot(epochs, lr.gradient_values_m, color='blue')\n",
        "plt.xlabel('epochs')\n",
        "plt.ylabel('gradient values m')\n",
        "plt.show()"
      ],
      "metadata": {
        "colab": {
          "base_uri": "https://localhost:8080/",
          "height": 465
        },
        "id": "uRLN__2JxgA8",
        "outputId": "f525c718-05bb-4111-847e-7ecff680f00b"
      },
      "execution_count": 634,
      "outputs": [
        {
          "output_type": "display_data",
          "data": {
            "text/plain": [
              "<Figure size 640x480 with 1 Axes>"
            ],
            "image/png": "[encoded data removed]"
          },
          "metadata": {}
        }
      ]
    },
    {
      "cell_type": "code",
      "source": [
        "plt.plot(epochs, lr.loss_values, color='red')\n",
        "plt.xlabel('epochs')\n",
        "plt.ylabel('loss')\n",
        "plt.show()"
      ],
      "metadata": {
        "colab": {
          "base_uri": "https://localhost:8080/",
          "height": 465
        },
        "id": "sR5WiQ950-fB",
        "outputId": "600a1f04-8a8c-405a-d34b-3f884cc381f0"
      },
      "execution_count": 635,
      "outputs": [
        {
          "output_type": "display_data",
          "data": {
            "text/plain": [
              "<Figure size 640x480 with 1 Axes>"
            ],
            "image/png": "[encoded data removed]"
          },
          "metadata": {}
        }
      ]
    },
    {
      "cell_type": "code",
      "execution_count": 636,
      "metadata": {
        "id": "7XXWWJuOj_jt"
      },
      "outputs": [],
      "source": [
        "y_pred = lr.predict(X_test)"
      ]
    },
    {
      "cell_type": "code",
      "source": [
        "from sklearn.metrics import r2_score\n",
        "r2_score(y_test, y_pred)"
      ],
      "metadata": {
        "colab": {
          "base_uri": "https://localhost:8080/"
        },
        "id": "CfNCQOeMuyBK",
        "outputId": "8702e6f6-ab8d-4f77-dc03-aa02551a49a6"
      },
      "execution_count": 637,
      "outputs": [
        {
          "output_type": "execute_result",
          "data": {
            "text/plain": [
              "-6.182805069210318e-05"
            ]
          },
          "metadata": {},
          "execution_count": 637
        }
      ]
    },
    {
      "cell_type": "code",
      "source": [],
      "metadata": {
        "id": "9Ze6ftdIu2SB"
      },
      "execution_count": 637,
      "outputs": []
    }
  ],
  "metadata": {
    "colab": {
      "provenance": [],
      "authorship_tag": "ABX9TyNMYN+ZV6JUTTSZigUSCNHT",
      "include_colab_link": true
    },
    "kernelspec": {
      "display_name": "Python 3",
      "name": "python3"
    },
    "language_info": {
      "name": "python"
    }
  },
  "nbformat": 4,
  "nbformat_minor": 0
}