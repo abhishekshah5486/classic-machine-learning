{
  "nbformat": 4,
  "nbformat_minor": 0,
  "metadata": {
    "colab": {
      "provenance": [],
      "authorship_tag": "ABX9TyPPcWeZXzbyZb8GJszAjgrI",
      "include_colab_link": true
    },
    "kernelspec": {
      "name": "python3",
      "display_name": "Python 3"
    },
    "language_info": {
      "name": "python"
    }
  },
  "cells": [
    {
      "cell_type": "markdown",
      "metadata": {
        "id": "view-in-github",
        "colab_type": "text"
      },
      "source": [
        "<a href=\"https://colab.research.google.com/github/abhishekshah5486/classic-machine-learning/blob/main/elasticNet_regularization.ipynb\" target=\"_parent\"><img src=\"https://colab.research.google.com/assets/colab-badge.svg\" alt=\"Open In Colab\"/></a>"
      ]
    },
    {
      "cell_type": "code",
      "execution_count": 1,
      "metadata": {
        "id": "sNs7jppkc-i4"
      },
      "outputs": [],
      "source": [
        "import numpy as np\n",
        "import pandas as pd\n",
        "import matplotlib.pyplot as plt\n",
        "import seaborn as sns"
      ]
    },
    {
      "cell_type": "code",
      "source": [
        "from sklearn.datasets import load_diabetes\n",
        "from sklearn.linear_model import LinearRegression, Ridge, Lasso, ElasticNet\n",
        "from sklearn.model_selection import train_test_split\n",
        "from sklearn.metrics import r2_score"
      ],
      "metadata": {
        "id": "zZFsO0pedAVa"
      },
      "execution_count": 3,
      "outputs": []
    },
    {
      "cell_type": "code",
      "source": [
        "X, y = load_diabetes(return_X_y = True)"
      ],
      "metadata": {
        "id": "EE5CiLcFe5L1"
      },
      "execution_count": 4,
      "outputs": []
    },
    {
      "cell_type": "code",
      "source": [
        "X_train, X_test, y_train, y_test = train_test_split(X, y, test_size=0.2, random_state = 2)"
      ],
      "metadata": {
        "id": "FV4aLUcOfUz-"
      },
      "execution_count": 5,
      "outputs": []
    },
    {
      "cell_type": "markdown",
      "source": [
        "### Linear Regression"
      ],
      "metadata": {
        "id": "1OkU2PZ_fOhq"
      }
    },
    {
      "cell_type": "code",
      "source": [
        "lr = LinearRegression()\n",
        "lr.fit(X_train, y_train)\n",
        "y_ = lr.predict(X_test)\n",
        "r2_score(y_test, y_)"
      ],
      "metadata": {
        "colab": {
          "base_uri": "https://localhost:8080/"
        },
        "id": "nSI_xItcfOGD",
        "outputId": "13720181-a4a8-4e08-ff49-e389d792a2b8"
      },
      "execution_count": 7,
      "outputs": [
        {
          "output_type": "execute_result",
          "data": {
            "text/plain": [
              "0.4399338661568968"
            ]
          },
          "metadata": {},
          "execution_count": 7
        }
      ]
    },
    {
      "cell_type": "markdown",
      "source": [
        "### Ridge Regression"
      ],
      "metadata": {
        "id": "p8juriILfkT8"
      }
    },
    {
      "cell_type": "code",
      "source": [
        "lr = Ridge(alpha = 0.1)\n",
        "lr.fit(X_train, y_train)\n",
        "y_ = lr.predict(X_test)\n",
        "r2_score(y_test, y_)"
      ],
      "metadata": {
        "colab": {
          "base_uri": "https://localhost:8080/"
        },
        "id": "P56AZ5z6fMP8",
        "outputId": "98d9f99f-7828-472e-ad6f-566fe5866d4b"
      },
      "execution_count": 8,
      "outputs": [
        {
          "output_type": "execute_result",
          "data": {
            "text/plain": [
              "0.45199494197195456"
            ]
          },
          "metadata": {},
          "execution_count": 8
        }
      ]
    },
    {
      "cell_type": "markdown",
      "source": [
        "### Lasso Regression"
      ],
      "metadata": {
        "id": "jQ8fs4rZgJfm"
      }
    },
    {
      "cell_type": "code",
      "source": [
        "lr = Lasso(alpha = 0.1)\n",
        "lr.fit(X_train, y_train)\n",
        "y_ = lr.predict(X_test)\n",
        "r2_score(y_test, y_)"
      ],
      "metadata": {
        "colab": {
          "base_uri": "https://localhost:8080/"
        },
        "id": "aixUPeFFfyxG",
        "outputId": "49ebdfaf-9488-4beb-d12b-c1238b8834ce"
      },
      "execution_count": 9,
      "outputs": [
        {
          "output_type": "execute_result",
          "data": {
            "text/plain": [
              "0.4334618007658305"
            ]
          },
          "metadata": {},
          "execution_count": 9
        }
      ]
    },
    {
      "cell_type": "markdown",
      "source": [
        "### Elastic Net Regression ( More weightage to Ridge Regression )"
      ],
      "metadata": {
        "id": "qJSs9-18gLVS"
      }
    },
    {
      "cell_type": "code",
      "source": [
        "lr = ElasticNet(alpha = 0.005, l1_ratio=0.9)\n",
        "lr.fit(X_train, y_train)\n",
        "y_ = lr.predict(X_test)\n",
        "r2_score(y_test, y_)"
      ],
      "metadata": {
        "colab": {
          "base_uri": "https://localhost:8080/"
        },
        "id": "r4MvgFcCf35J",
        "outputId": "7ee10cd9-d56f-4cb7-d0a3-84ab3c87bde2"
      },
      "execution_count": 10,
      "outputs": [
        {
          "output_type": "execute_result",
          "data": {
            "text/plain": [
              "0.4531474541554823"
            ]
          },
          "metadata": {},
          "execution_count": 10
        }
      ]
    },
    {
      "cell_type": "markdown",
      "source": [
        "### Elastic Net Regression ( More weightage to Lasso Regression )"
      ],
      "metadata": {
        "id": "1sClJl4egP5N"
      }
    },
    {
      "cell_type": "code",
      "source": [
        "lr = ElasticNet(alpha = 0.005, l1_ratio=0.1)\n",
        "lr.fit(X_train, y_train)\n",
        "y_ = lr.predict(X_test)\n",
        "r2_score(y_test, y_)"
      ],
      "metadata": {
        "colab": {
          "base_uri": "https://localhost:8080/"
        },
        "id": "adR8EVk1gDxm",
        "outputId": "f4447ab2-8cd5-42f3-cf0e-ecfed309dcba"
      },
      "execution_count": 11,
      "outputs": [
        {
          "output_type": "execute_result",
          "data": {
            "text/plain": [
              "0.37060003607124903"
            ]
          },
          "metadata": {},
          "execution_count": 11
        }
      ]
    },
    {
      "cell_type": "code",
      "source": [],
      "metadata": {
        "id": "uVejRio-gHzx"
      },
      "execution_count": null,
      "outputs": []
    }
  ]
}